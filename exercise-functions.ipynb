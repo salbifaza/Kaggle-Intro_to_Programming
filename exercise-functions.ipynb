{
 "cells": [
  {
   "cell_type": "markdown",
   "id": "44e699bd",
   "metadata": {
    "papermill": {
     "duration": 0.011781,
     "end_time": "2023-09-06T04:40:20.272644",
     "exception": false,
     "start_time": "2023-09-06T04:40:20.260863",
     "status": "completed"
    },
    "tags": []
   },
   "source": [
    "**This notebook is an exercise in the [Intro to Programming](https://www.kaggle.com/learn/intro-to-programming) course.  You can reference the tutorial at [this link](https://www.kaggle.com/alexisbcook/functions).**\n",
    "\n",
    "---\n"
   ]
  },
  {
   "cell_type": "markdown",
   "id": "5f48b50e",
   "metadata": {
    "papermill": {
     "duration": 0.010157,
     "end_time": "2023-09-06T04:40:20.293974",
     "exception": false,
     "start_time": "2023-09-06T04:40:20.283817",
     "status": "completed"
    },
    "tags": []
   },
   "source": [
    "In the tutorial, you learned about functions. In this exercise, you'll write some of your own!\n",
    "\n",
    "# Set up the notebook\n",
    "\n",
    "Run the next code cell without changes to set up the notebook."
   ]
  },
  {
   "cell_type": "code",
   "execution_count": 1,
   "id": "ccdc4513",
   "metadata": {
    "execution": {
     "iopub.execute_input": "2023-09-06T04:40:20.317346Z",
     "iopub.status.busy": "2023-09-06T04:40:20.316565Z",
     "iopub.status.idle": "2023-09-06T04:40:21.357352Z",
     "shell.execute_reply": "2023-09-06T04:40:21.355963Z"
    },
    "papermill": {
     "duration": 1.058259,
     "end_time": "2023-09-06T04:40:21.362759",
     "exception": false,
     "start_time": "2023-09-06T04:40:20.304500",
     "status": "completed"
    },
    "tags": []
   },
   "outputs": [
    {
     "name": "stdout",
     "output_type": "stream",
     "text": [
      "Setup complete.\n"
     ]
    }
   ],
   "source": [
    "# Set up the exercise\n",
    "import math\n",
    "from learntools.core import binder\n",
    "binder.bind(globals())\n",
    "from learntools.intro_to_programming.ex2 import *\n",
    "print('Setup complete.')"
   ]
  },
  {
   "cell_type": "markdown",
   "id": "f5c4231c",
   "metadata": {
    "papermill": {
     "duration": 0.012982,
     "end_time": "2023-09-06T04:40:21.388259",
     "exception": false,
     "start_time": "2023-09-06T04:40:21.375277",
     "status": "completed"
    },
    "tags": []
   },
   "source": [
    "# Question 1\n",
    "\n",
    "In the [House Prices - Advanced Regression Techniques competition](https://www.kaggle.com/c/house-prices-advanced-regression-techniques/overview), you need to use information like the number of bedrooms and bathrooms to predict the price of a house.  Inspired by this competition, you'll write your own function to do this.\n",
    "\n",
    "In the next code cell, create a function `get_expected_cost()` that has two arguments:\n",
    "- `beds` - number of bedrooms \n",
    "- `baths` - number of bathrooms\n",
    "\n",
    "It should return the expected cost of a house with that number of bedrooms and bathrooms.  Assume that:\n",
    "- the expected cost for a house with 0 bedrooms and 0 bathrooms is `80000`.  \n",
    "- each bedroom adds `30000` to the expected cost\n",
    "- each bathroom adds `10000` to the expected cost.\n",
    "\n",
    "For instance, \n",
    "- a house with 1 bedroom and 1 bathroom has an expected cost of `120000`, and \n",
    "- a house with 2 bedrooms and 1 bathroom has an expected cost of `150000`."
   ]
  },
  {
   "cell_type": "code",
   "execution_count": 2,
   "id": "ffbf198a",
   "metadata": {
    "execution": {
     "iopub.execute_input": "2023-09-06T04:40:21.411790Z",
     "iopub.status.busy": "2023-09-06T04:40:21.411113Z",
     "iopub.status.idle": "2023-09-06T04:40:21.424039Z",
     "shell.execute_reply": "2023-09-06T04:40:21.422808Z"
    },
    "papermill": {
     "duration": 0.028353,
     "end_time": "2023-09-06T04:40:21.427351",
     "exception": false,
     "start_time": "2023-09-06T04:40:21.398998",
     "status": "completed"
    },
    "tags": []
   },
   "outputs": [
    {
     "data": {
      "application/javascript": [
       "parent.postMessage({\"jupyterEvent\": \"custom.exercise_interaction\", \"data\": {\"outcomeType\": 1, \"valueTowardsCompletion\": 0.2, \"interactionType\": 1, \"questionType\": 2, \"questionId\": \"1_GetExpectedCost\", \"learnToolsVersion\": \"0.3.4\", \"failureMessage\": \"\", \"exceptionClass\": \"\", \"trace\": \"\"}}, \"*\")"
      ],
      "text/plain": [
       "<IPython.core.display.Javascript object>"
      ]
     },
     "metadata": {},
     "output_type": "display_data"
    },
    {
     "data": {
      "text/markdown": [
       "<span style=\"color:#33cc33\">Correct</span>"
      ],
      "text/plain": [
       "Correct"
      ]
     },
     "metadata": {},
     "output_type": "display_data"
    }
   ],
   "source": [
    "# TODO: Complete the function\n",
    "def get_expected_cost(beds, baths):\n",
    "    value = 80000 + (30000 * beds) + (10000 * baths) \n",
    "    return value\n",
    "\n",
    "# Check your answer \n",
    "q1.check()"
   ]
  },
  {
   "cell_type": "code",
   "execution_count": 3,
   "id": "c31025f2",
   "metadata": {
    "execution": {
     "iopub.execute_input": "2023-09-06T04:40:21.452291Z",
     "iopub.status.busy": "2023-09-06T04:40:21.451093Z",
     "iopub.status.idle": "2023-09-06T04:40:21.457263Z",
     "shell.execute_reply": "2023-09-06T04:40:21.455816Z"
    },
    "papermill": {
     "duration": 0.021744,
     "end_time": "2023-09-06T04:40:21.459944",
     "exception": false,
     "start_time": "2023-09-06T04:40:21.438200",
     "status": "completed"
    },
    "tags": []
   },
   "outputs": [],
   "source": [
    "# Uncomment to see a hint\n",
    "#q1.hint()\n",
    "\n",
    "# Uncomment to view the solution\n",
    "#q1.solution()"
   ]
  },
  {
   "cell_type": "markdown",
   "id": "0d785d00",
   "metadata": {
    "papermill": {
     "duration": 0.013262,
     "end_time": "2023-09-06T04:40:21.484959",
     "exception": false,
     "start_time": "2023-09-06T04:40:21.471697",
     "status": "completed"
    },
    "tags": []
   },
   "source": [
    "# Question 2\n",
    "\n",
    "You are thinking about buying a home and want to get an idea of how much you will spend, based on the number of bedrooms and bathrooms.  You are trying to decide between four different options:\n",
    "- Option 1: house with two bedrooms and three bathrooms\n",
    "- Option 2: house with three bedrooms and two bathrooms\n",
    "- Option 3: house with three bedrooms and three bathrooms\n",
    "- Option 4: house with three bedrooms and four bathrooms\n",
    "\n",
    "Use the `get_expected_cost()` function you defined in question 1 to set `option_1`, `option_2`, `option_3`, and `option_4` to the expected cost of each option."
   ]
  },
  {
   "cell_type": "code",
   "execution_count": 4,
   "id": "3c61cda8",
   "metadata": {
    "execution": {
     "iopub.execute_input": "2023-09-06T04:40:21.511185Z",
     "iopub.status.busy": "2023-09-06T04:40:21.510658Z",
     "iopub.status.idle": "2023-09-06T04:40:21.527386Z",
     "shell.execute_reply": "2023-09-06T04:40:21.526041Z"
    },
    "papermill": {
     "duration": 0.03361,
     "end_time": "2023-09-06T04:40:21.530745",
     "exception": false,
     "start_time": "2023-09-06T04:40:21.497135",
     "status": "completed"
    },
    "tags": []
   },
   "outputs": [
    {
     "name": "stdout",
     "output_type": "stream",
     "text": [
      "170000\n",
      "190000\n",
      "200000\n",
      "210000\n"
     ]
    },
    {
     "data": {
      "application/javascript": [
       "parent.postMessage({\"jupyterEvent\": \"custom.exercise_interaction\", \"data\": {\"outcomeType\": 1, \"valueTowardsCompletion\": 0.2, \"interactionType\": 1, \"questionType\": 1, \"questionId\": \"2_RunGetExpectedCost\", \"learnToolsVersion\": \"0.3.4\", \"failureMessage\": \"\", \"exceptionClass\": \"\", \"trace\": \"\"}}, \"*\")"
      ],
      "text/plain": [
       "<IPython.core.display.Javascript object>"
      ]
     },
     "metadata": {},
     "output_type": "display_data"
    },
    {
     "data": {
      "text/markdown": [
       "<span style=\"color:#33cc33\">Correct</span>"
      ],
      "text/plain": [
       "Correct"
      ]
     },
     "metadata": {},
     "output_type": "display_data"
    }
   ],
   "source": [
    "# TODO: Use the get_expected_cost function to fill in each value\n",
    "option_one = get_expected_cost(2,3)\n",
    "option_two = get_expected_cost(3,2)\n",
    "option_three = get_expected_cost(3,3)\n",
    "option_four = get_expected_cost(3,4)\n",
    "\n",
    "print(option_one)\n",
    "print(option_two)\n",
    "print(option_three)\n",
    "print(option_four)\n",
    "\n",
    "# Check your answer\n",
    "q2.check()"
   ]
  },
  {
   "cell_type": "code",
   "execution_count": 5,
   "id": "027e55d9",
   "metadata": {
    "execution": {
     "iopub.execute_input": "2023-09-06T04:40:21.560864Z",
     "iopub.status.busy": "2023-09-06T04:40:21.559741Z",
     "iopub.status.idle": "2023-09-06T04:40:21.566480Z",
     "shell.execute_reply": "2023-09-06T04:40:21.565276Z"
    },
    "papermill": {
     "duration": 0.028405,
     "end_time": "2023-09-06T04:40:21.573112",
     "exception": false,
     "start_time": "2023-09-06T04:40:21.544707",
     "status": "completed"
    },
    "tags": []
   },
   "outputs": [],
   "source": [
    "# Uncomment to see a hint\n",
    "#q2.hint()\n",
    "\n",
    "# Uncomment to view the solution\n",
    "#q2.solution()"
   ]
  },
  {
   "cell_type": "markdown",
   "id": "7b952baf",
   "metadata": {
    "papermill": {
     "duration": 0.012494,
     "end_time": "2023-09-06T04:40:21.601532",
     "exception": false,
     "start_time": "2023-09-06T04:40:21.589038",
     "status": "completed"
    },
    "tags": []
   },
   "source": [
    "# Question 3\n",
    "\n",
    "You're a home decorator, and you'd like to use Python to streamline some of your work.  Specifically, you're creating a tool that you intend to use to calculate the cost of painting a room.\n",
    "\n",
    "As a first step, define a function `get_cost()` that takes as input:\n",
    "- `sqft_walls` = total square feet of walls to be painted\n",
    "- `sqft_ceiling` = square feet of ceiling to be painted\n",
    "- `sqft_per_gallon` = number of square feet that you can cover with one gallon of paint\n",
    "- `cost_per_gallon` = cost (in dollars) of one gallon of paint\n",
    "\n",
    "It should return the cost (in dollars) of putting one coat of paint on all walls and the ceiling.  Assume you can buy the exact amount of paint that you need, so you can buy partial gallons (e.g., if you need 7.523 gallons, you can buy that exact amount, instead of needing to buy 8 gallons and waste some paint).  Do not round your answer."
   ]
  },
  {
   "cell_type": "code",
   "execution_count": 6,
   "id": "e5db5802",
   "metadata": {
    "execution": {
     "iopub.execute_input": "2023-09-06T04:40:21.634920Z",
     "iopub.status.busy": "2023-09-06T04:40:21.633691Z",
     "iopub.status.idle": "2023-09-06T04:40:21.644709Z",
     "shell.execute_reply": "2023-09-06T04:40:21.643242Z"
    },
    "papermill": {
     "duration": 0.031155,
     "end_time": "2023-09-06T04:40:21.647420",
     "exception": false,
     "start_time": "2023-09-06T04:40:21.616265",
     "status": "completed"
    },
    "tags": []
   },
   "outputs": [
    {
     "data": {
      "application/javascript": [
       "parent.postMessage({\"jupyterEvent\": \"custom.exercise_interaction\", \"data\": {\"outcomeType\": 1, \"valueTowardsCompletion\": 0.2, \"interactionType\": 1, \"questionType\": 2, \"questionId\": \"3_GetCostPaint\", \"learnToolsVersion\": \"0.3.4\", \"failureMessage\": \"\", \"exceptionClass\": \"\", \"trace\": \"\"}}, \"*\")"
      ],
      "text/plain": [
       "<IPython.core.display.Javascript object>"
      ]
     },
     "metadata": {},
     "output_type": "display_data"
    },
    {
     "data": {
      "text/markdown": [
       "<span style=\"color:#33cc33\">Correct</span>"
      ],
      "text/plain": [
       "Correct"
      ]
     },
     "metadata": {},
     "output_type": "display_data"
    }
   ],
   "source": [
    "# TODO: Finish defining the function\n",
    "def get_cost(sqft_walls, sqft_ceiling, sqft_per_gallon, cost_per_gallon):\n",
    "    cost = (sqft_walls + sqft_ceiling)/sqft_per_gallon* cost_per_gallon\n",
    "    return cost\n",
    "\n",
    "# Check your answer\n",
    "q3.check()"
   ]
  },
  {
   "cell_type": "code",
   "execution_count": 7,
   "id": "5cf7238a",
   "metadata": {
    "execution": {
     "iopub.execute_input": "2023-09-06T04:40:21.672924Z",
     "iopub.status.busy": "2023-09-06T04:40:21.672466Z",
     "iopub.status.idle": "2023-09-06T04:40:21.677866Z",
     "shell.execute_reply": "2023-09-06T04:40:21.676296Z"
    },
    "papermill": {
     "duration": 0.021132,
     "end_time": "2023-09-06T04:40:21.680160",
     "exception": false,
     "start_time": "2023-09-06T04:40:21.659028",
     "status": "completed"
    },
    "tags": []
   },
   "outputs": [],
   "source": [
    "# Uncomment to see a hint\n",
    "#q3.hint()\n",
    "\n",
    "# Uncomment to view the solution\n",
    "#q3.solution()"
   ]
  },
  {
   "cell_type": "markdown",
   "id": "a4052238",
   "metadata": {
    "papermill": {
     "duration": 0.011092,
     "end_time": "2023-09-06T04:40:21.702791",
     "exception": false,
     "start_time": "2023-09-06T04:40:21.691699",
     "status": "completed"
    },
    "tags": []
   },
   "source": [
    "# Question 4\n",
    "\n",
    "Use the `get_cost()` function you defined in Question 3 to calculate the cost of applying one coat of paint to a room with:\n",
    "- 432 square feet of walls, and\n",
    "- 144 square feet of ceiling.\n",
    "\n",
    "Assume that one gallon of paint covers 400 square feet and costs $15.  As in Question 3, assume you can buy partial gallons of paint.  Do not round your answer."
   ]
  },
  {
   "cell_type": "code",
   "execution_count": 8,
   "id": "41dfe4dd",
   "metadata": {
    "execution": {
     "iopub.execute_input": "2023-09-06T04:40:21.729595Z",
     "iopub.status.busy": "2023-09-06T04:40:21.728086Z",
     "iopub.status.idle": "2023-09-06T04:40:21.739701Z",
     "shell.execute_reply": "2023-09-06T04:40:21.738486Z"
    },
    "papermill": {
     "duration": 0.027499,
     "end_time": "2023-09-06T04:40:21.742204",
     "exception": false,
     "start_time": "2023-09-06T04:40:21.714705",
     "status": "completed"
    },
    "tags": []
   },
   "outputs": [
    {
     "data": {
      "application/javascript": [
       "parent.postMessage({\"jupyterEvent\": \"custom.exercise_interaction\", \"data\": {\"outcomeType\": 1, \"valueTowardsCompletion\": 0.2, \"interactionType\": 1, \"questionType\": 1, \"questionId\": \"4_GetCostPaintExample\", \"learnToolsVersion\": \"0.3.4\", \"failureMessage\": \"\", \"exceptionClass\": \"\", \"trace\": \"\"}}, \"*\")"
      ],
      "text/plain": [
       "<IPython.core.display.Javascript object>"
      ]
     },
     "metadata": {},
     "output_type": "display_data"
    },
    {
     "data": {
      "text/markdown": [
       "<span style=\"color:#33cc33\">Correct</span>"
      ],
      "text/plain": [
       "Correct"
      ]
     },
     "metadata": {},
     "output_type": "display_data"
    }
   ],
   "source": [
    "# TODO: Set the project_cost variable to the cost of the project\n",
    "project_cost = get_cost(432,144,400,15)\n",
    "\n",
    "# Check your answer\n",
    "q4.check()"
   ]
  },
  {
   "cell_type": "code",
   "execution_count": 9,
   "id": "164fe3dd",
   "metadata": {
    "execution": {
     "iopub.execute_input": "2023-09-06T04:40:21.769811Z",
     "iopub.status.busy": "2023-09-06T04:40:21.769079Z",
     "iopub.status.idle": "2023-09-06T04:40:21.775091Z",
     "shell.execute_reply": "2023-09-06T04:40:21.773502Z"
    },
    "papermill": {
     "duration": 0.02468,
     "end_time": "2023-09-06T04:40:21.779218",
     "exception": false,
     "start_time": "2023-09-06T04:40:21.754538",
     "status": "completed"
    },
    "tags": []
   },
   "outputs": [],
   "source": [
    "# Uncomment to see a hint\n",
    "#q4.hint()\n",
    "\n",
    "# Uncomment to view the solution\n",
    "#q4.solution()"
   ]
  },
  {
   "cell_type": "markdown",
   "id": "51e1306f",
   "metadata": {
    "papermill": {
     "duration": 0.015433,
     "end_time": "2023-09-06T04:40:21.809444",
     "exception": false,
     "start_time": "2023-09-06T04:40:21.794011",
     "status": "completed"
    },
    "tags": []
   },
   "source": [
    "# 🌶️ Question 5\n",
    "\n",
    "Now say you can no longer buy fractions of a gallon.  (For instance, if you need 4.3 gallons to do a project, then you have to buy 5 gallons of paint.)\n",
    "\n",
    "With this new scenario, you will create a new function `get_actual_cost` that uses the same inputs and calculates the cost of your project.\n",
    "\n",
    "One function that you'll need to use to do this is `math.ceil()`.  We demonstrate usage of this function in the code cell below.  It takes as a number as input and rounds the number up to the nearest integer.  \n",
    "\n",
    "Run the next code cell to test this function for yourself.  Feel free to change the value of `test_value` and make sure `math.ceil()` returns the number you expect."
   ]
  },
  {
   "cell_type": "code",
   "execution_count": 10,
   "id": "c9e05ff0",
   "metadata": {
    "execution": {
     "iopub.execute_input": "2023-09-06T04:40:21.850662Z",
     "iopub.status.busy": "2023-09-06T04:40:21.847879Z",
     "iopub.status.idle": "2023-09-06T04:40:21.858138Z",
     "shell.execute_reply": "2023-09-06T04:40:21.856283Z"
    },
    "papermill": {
     "duration": 0.033763,
     "end_time": "2023-09-06T04:40:21.861576",
     "exception": false,
     "start_time": "2023-09-06T04:40:21.827813",
     "status": "completed"
    },
    "tags": []
   },
   "outputs": [
    {
     "name": "stdout",
     "output_type": "stream",
     "text": [
      "3\n"
     ]
    }
   ],
   "source": [
    "test_value = 2.17\n",
    "\n",
    "rounded_value = math.ceil(test_value)\n",
    "print(rounded_value)"
   ]
  },
  {
   "cell_type": "markdown",
   "id": "29363d78",
   "metadata": {
    "papermill": {
     "duration": 0.015879,
     "end_time": "2023-09-06T04:40:21.895745",
     "exception": false,
     "start_time": "2023-09-06T04:40:21.879866",
     "status": "completed"
    },
    "tags": []
   },
   "source": [
    "Use the next code cell to define the function `get_actual_cost()`.  You'll need to use the `math.ceil()` function to do this.\n",
    "\n",
    "When answering this question, note that it's completely valid to define a function that makes use of another function.  For instance, we can define a function `round_up_and_divide_by_three` that makes use of the `math.ceil` function:\n",
    "```\n",
    "def round_up_and_divide_by_three(num):\n",
    "    new_value = math.ceil(num)\n",
    "    final_value = new_value / 3\n",
    "    return final_value\n",
    "```"
   ]
  },
  {
   "cell_type": "markdown",
   "id": "0286b46b",
   "metadata": {
    "papermill": {
     "duration": 0.012013,
     "end_time": "2023-09-06T04:40:21.922668",
     "exception": false,
     "start_time": "2023-09-06T04:40:21.910655",
     "status": "completed"
    },
    "tags": []
   },
   "source": []
  },
  {
   "cell_type": "code",
   "execution_count": 11,
   "id": "b0a0fa57",
   "metadata": {
    "execution": {
     "iopub.execute_input": "2023-09-06T04:40:21.950810Z",
     "iopub.status.busy": "2023-09-06T04:40:21.950151Z",
     "iopub.status.idle": "2023-09-06T04:40:21.963668Z",
     "shell.execute_reply": "2023-09-06T04:40:21.962477Z"
    },
    "papermill": {
     "duration": 0.03091,
     "end_time": "2023-09-06T04:40:21.966117",
     "exception": false,
     "start_time": "2023-09-06T04:40:21.935207",
     "status": "completed"
    },
    "tags": []
   },
   "outputs": [
    {
     "data": {
      "application/javascript": [
       "parent.postMessage({\"jupyterEvent\": \"custom.exercise_interaction\", \"data\": {\"outcomeType\": 1, \"valueTowardsCompletion\": 0.2, \"interactionType\": 1, \"questionType\": 2, \"questionId\": \"5_NoMoreFractions\", \"learnToolsVersion\": \"0.3.4\", \"failureMessage\": \"\", \"exceptionClass\": \"\", \"trace\": \"\"}}, \"*\")"
      ],
      "text/plain": [
       "<IPython.core.display.Javascript object>"
      ]
     },
     "metadata": {},
     "output_type": "display_data"
    },
    {
     "data": {
      "text/markdown": [
       "<span style=\"color:#33cc33\">Correct</span>"
      ],
      "text/plain": [
       "Correct"
      ]
     },
     "metadata": {},
     "output_type": "display_data"
    }
   ],
   "source": [
    "def get_actual_cost(sqft_walls, sqft_ceiling, sqft_per_gallon, cost_per_gallon):\n",
    "    cost =  math.ceil((sqft_walls+sqft_ceiling)/sqft_per_gallon)*cost_per_gallon\n",
    "    return cost\n",
    "\n",
    "# Check your answer\n",
    "q5.check()"
   ]
  },
  {
   "cell_type": "code",
   "execution_count": 12,
   "id": "a948c1a4",
   "metadata": {
    "execution": {
     "iopub.execute_input": "2023-09-06T04:40:22.000345Z",
     "iopub.status.busy": "2023-09-06T04:40:21.999426Z",
     "iopub.status.idle": "2023-09-06T04:40:22.005017Z",
     "shell.execute_reply": "2023-09-06T04:40:22.003902Z"
    },
    "papermill": {
     "duration": 0.029826,
     "end_time": "2023-09-06T04:40:22.008509",
     "exception": false,
     "start_time": "2023-09-06T04:40:21.978683",
     "status": "completed"
    },
    "tags": []
   },
   "outputs": [],
   "source": [
    "# Uncomment to see a hint\n",
    "#q5.hint()\n",
    "\n",
    "# Uncomment to view the solution\n",
    "#q5.solution()"
   ]
  },
  {
   "cell_type": "markdown",
   "id": "f6a3402a",
   "metadata": {
    "papermill": {
     "duration": 0.013189,
     "end_time": "2023-09-06T04:40:22.034927",
     "exception": false,
     "start_time": "2023-09-06T04:40:22.021738",
     "status": "completed"
    },
    "tags": []
   },
   "source": [
    "Once your function is verified as correct, run the next code cell to calculate the updated cost of your project."
   ]
  },
  {
   "cell_type": "code",
   "execution_count": 13,
   "id": "36087a13",
   "metadata": {
    "execution": {
     "iopub.execute_input": "2023-09-06T04:40:22.064752Z",
     "iopub.status.busy": "2023-09-06T04:40:22.063725Z",
     "iopub.status.idle": "2023-09-06T04:40:22.072794Z",
     "shell.execute_reply": "2023-09-06T04:40:22.071466Z"
    },
    "papermill": {
     "duration": 0.027578,
     "end_time": "2023-09-06T04:40:22.075546",
     "exception": false,
     "start_time": "2023-09-06T04:40:22.047968",
     "status": "completed"
    },
    "tags": []
   },
   "outputs": [
    {
     "data": {
      "text/plain": [
       "30"
      ]
     },
     "execution_count": 13,
     "metadata": {},
     "output_type": "execute_result"
    }
   ],
   "source": [
    "get_actual_cost(432, 144, 400, 15) "
   ]
  },
  {
   "cell_type": "markdown",
   "id": "7179fb58",
   "metadata": {
    "papermill": {
     "duration": 0.015767,
     "end_time": "2023-09-06T04:40:22.104904",
     "exception": false,
     "start_time": "2023-09-06T04:40:22.089137",
     "status": "completed"
    },
    "tags": []
   },
   "source": [
    "Say you're working with a slightly larger room.  Run the next code cell to calculate the cost of the project."
   ]
  },
  {
   "cell_type": "code",
   "execution_count": 14,
   "id": "4dcb8118",
   "metadata": {
    "execution": {
     "iopub.execute_input": "2023-09-06T04:40:22.136613Z",
     "iopub.status.busy": "2023-09-06T04:40:22.135591Z",
     "iopub.status.idle": "2023-09-06T04:40:22.152229Z",
     "shell.execute_reply": "2023-09-06T04:40:22.150538Z"
    },
    "papermill": {
     "duration": 0.036599,
     "end_time": "2023-09-06T04:40:22.155997",
     "exception": false,
     "start_time": "2023-09-06T04:40:22.119398",
     "status": "completed"
    },
    "tags": []
   },
   "outputs": [
    {
     "data": {
      "text/plain": [
       "45"
      ]
     },
     "execution_count": 14,
     "metadata": {},
     "output_type": "execute_result"
    }
   ],
   "source": [
    "get_actual_cost(594, 288, 400, 15) "
   ]
  },
  {
   "cell_type": "markdown",
   "id": "46db3271",
   "metadata": {
    "papermill": {
     "duration": 0.0131,
     "end_time": "2023-09-06T04:40:22.184523",
     "exception": false,
     "start_time": "2023-09-06T04:40:22.171423",
     "status": "completed"
    },
    "tags": []
   },
   "source": [
    "# Keep going\n",
    "\n",
    "Continue to learn about **[data types](https://www.kaggle.com/alexisbcook/data-types)**."
   ]
  },
  {
   "cell_type": "markdown",
   "id": "5244af07",
   "metadata": {
    "papermill": {
     "duration": 0.013843,
     "end_time": "2023-09-06T04:40:22.213112",
     "exception": false,
     "start_time": "2023-09-06T04:40:22.199269",
     "status": "completed"
    },
    "tags": []
   },
   "source": [
    "---\n",
    "\n",
    "\n",
    "\n",
    "\n",
    "*Have questions or comments? Visit the [course discussion forum](https://www.kaggle.com/learn/intro-to-programming/discussion) to chat with other learners.*"
   ]
  }
 ],
 "kernelspec": {
  "display_name": "Python 3",
  "language": "python",
  "name": "python3"
 },
 "language_info": {
  "codemirror_mode": {
   "name": "ipython",
   "version": 3
  },
  "file_extension": ".py",
  "mimetype": "text/x-python",
  "name": "python",
  "nbconvert_exporter": "python",
  "pygments_lexer": "ipython3",
  "version": "3.6.4"
 },
 "metadata": {
  "kernelspec": {
   "display_name": "Python 3",
   "language": "python",
   "name": "python3"
  },
  "language_info": {
   "codemirror_mode": {
    "name": "ipython",
    "version": 3
   },
   "file_extension": ".py",
   "mimetype": "text/x-python",
   "name": "python",
   "nbconvert_exporter": "python",
   "pygments_lexer": "ipython3",
   "version": "3.10.12"
  },
  "papermill": {
   "default_parameters": {},
   "duration": 7.895754,
   "end_time": "2023-09-06T04:40:22.851358",
   "environment_variables": {},
   "exception": null,
   "input_path": "__notebook__.ipynb",
   "output_path": "__notebook__.ipynb",
   "parameters": {},
   "start_time": "2023-09-06T04:40:14.955604",
   "version": "2.4.0"
  }
 },
 "nbformat": 4,
 "nbformat_minor": 5
}
