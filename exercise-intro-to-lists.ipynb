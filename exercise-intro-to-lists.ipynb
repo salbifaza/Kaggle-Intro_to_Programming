{
 "cells": [
  {
   "cell_type": "markdown",
   "id": "e12946d6",
   "metadata": {
    "papermill": {
     "duration": 0.011015,
     "end_time": "2023-09-06T04:56:30.502238",
     "exception": false,
     "start_time": "2023-09-06T04:56:30.491223",
     "status": "completed"
    },
    "tags": []
   },
   "source": [
    "**This notebook is an exercise in the [Intro to Programming](https://www.kaggle.com/learn/intro-to-programming) course.  You can reference the tutorial at [this link](https://www.kaggle.com/alexisbcook/intro-to-lists).**\n",
    "\n",
    "---\n"
   ]
  },
  {
   "cell_type": "markdown",
   "id": "46384759",
   "metadata": {
    "papermill": {
     "duration": 0.010221,
     "end_time": "2023-09-06T04:56:30.522776",
     "exception": false,
     "start_time": "2023-09-06T04:56:30.512555",
     "status": "completed"
    },
    "tags": []
   },
   "source": [
    "In the tutorial, you learned how to define and modify Python lists.  In this exercise, you will use your new knowledge to solve several problems.\n",
    "\n",
    "# Set up the notebook\n",
    "\n",
    "Run the next code cell without changes to set up the notebook."
   ]
  },
  {
   "cell_type": "code",
   "execution_count": 1,
   "id": "7cea6814",
   "metadata": {
    "execution": {
     "iopub.execute_input": "2023-09-06T04:56:30.545598Z",
     "iopub.status.busy": "2023-09-06T04:56:30.544438Z",
     "iopub.status.idle": "2023-09-06T04:56:31.516362Z",
     "shell.execute_reply": "2023-09-06T04:56:31.515034Z"
    },
    "papermill": {
     "duration": 0.986816,
     "end_time": "2023-09-06T04:56:31.519549",
     "exception": false,
     "start_time": "2023-09-06T04:56:30.532733",
     "status": "completed"
    },
    "tags": []
   },
   "outputs": [
    {
     "name": "stdout",
     "output_type": "stream",
     "text": [
      "Setup complete.\n"
     ]
    }
   ],
   "source": [
    "from learntools.core import binder\n",
    "binder.bind(globals())\n",
    "from learntools.intro_to_programming.ex5 import *\n",
    "print('Setup complete.')"
   ]
  },
  {
   "cell_type": "markdown",
   "id": "9b47eb55",
   "metadata": {
    "papermill": {
     "duration": 0.013511,
     "end_time": "2023-09-06T04:56:31.545830",
     "exception": false,
     "start_time": "2023-09-06T04:56:31.532319",
     "status": "completed"
    },
    "tags": []
   },
   "source": [
    "# Question 1\n",
    "\n",
    "You own a restaurant with five food dishes, organized in the Python list `menu` below.  One day, you decide to:\n",
    "- remove bean soup (`'bean soup'`) from the menu, and\n",
    "- add roasted beet salad (`'roasted beet salad'`) to the menu.\n",
    "\n",
    "Implement this change to the list below.  While completing this task, \n",
    "- do not change the line that creates the `menu` list.  \n",
    "- your answer should use `.remove()` and `.append()`.  "
   ]
  },
  {
   "cell_type": "code",
   "execution_count": 2,
   "id": "ee572221",
   "metadata": {
    "execution": {
     "iopub.execute_input": "2023-09-06T04:56:31.580288Z",
     "iopub.status.busy": "2023-09-06T04:56:31.579020Z",
     "iopub.status.idle": "2023-09-06T04:56:31.590735Z",
     "shell.execute_reply": "2023-09-06T04:56:31.589507Z"
    },
    "papermill": {
     "duration": 0.032342,
     "end_time": "2023-09-06T04:56:31.593079",
     "exception": false,
     "start_time": "2023-09-06T04:56:31.560737",
     "status": "completed"
    },
    "tags": []
   },
   "outputs": [
    {
     "data": {
      "application/javascript": [
       "parent.postMessage({\"jupyterEvent\": \"custom.exercise_interaction\", \"data\": {\"outcomeType\": 1, \"valueTowardsCompletion\": 0.2, \"interactionType\": 1, \"questionType\": 2, \"questionId\": \"1_FoodMenu\", \"learnToolsVersion\": \"0.3.4\", \"failureMessage\": \"\", \"exceptionClass\": \"\", \"trace\": \"\"}}, \"*\")"
      ],
      "text/plain": [
       "<IPython.core.display.Javascript object>"
      ]
     },
     "metadata": {},
     "output_type": "display_data"
    },
    {
     "data": {
      "text/markdown": [
       "<span style=\"color:#33cc33\">Correct</span>"
      ],
      "text/plain": [
       "Correct"
      ]
     },
     "metadata": {},
     "output_type": "display_data"
    }
   ],
   "source": [
    "# Do not change: Initial menu for your restaurant\n",
    "menu = ['stewed meat with onions', 'bean soup', 'risotto with trout and shrimp',\n",
    "       'fish soup with cream and onion', 'gyro']\n",
    "\n",
    "# TODO: remove 'bean soup', and add 'roasted beet salad' to the end of the menu\n",
    "menu.remove('bean soup')\n",
    "menu.append('roasted beet salad')\n",
    "\n",
    "# Do not change: Check your answer\n",
    "q1.check()"
   ]
  },
  {
   "cell_type": "code",
   "execution_count": 3,
   "id": "fc53d5c3",
   "metadata": {
    "execution": {
     "iopub.execute_input": "2023-09-06T04:56:31.616517Z",
     "iopub.status.busy": "2023-09-06T04:56:31.616009Z",
     "iopub.status.idle": "2023-09-06T04:56:31.621424Z",
     "shell.execute_reply": "2023-09-06T04:56:31.619984Z"
    },
    "papermill": {
     "duration": 0.020352,
     "end_time": "2023-09-06T04:56:31.623940",
     "exception": false,
     "start_time": "2023-09-06T04:56:31.603588",
     "status": "completed"
    },
    "tags": []
   },
   "outputs": [],
   "source": [
    "# Uncomment to see a hint\n",
    "#q1.hint()\n",
    "\n",
    "# Uncomment to see the solution\n",
    "#q1.solution()"
   ]
  },
  {
   "cell_type": "markdown",
   "id": "72b355b1",
   "metadata": {
    "papermill": {
     "duration": 0.010161,
     "end_time": "2023-09-06T04:56:31.644797",
     "exception": false,
     "start_time": "2023-09-06T04:56:31.634636",
     "status": "completed"
    },
    "tags": []
   },
   "source": [
    "# Question 2\n",
    "\n",
    "The list `num_customers` contains the number of customers who came into your restaurant every day over the last month (which lasted thirty days).  Fill in values for each of the following:\n",
    "- `avg_first_seven` - average number of customers who visited in the first seven days\n",
    "- `avg_last_seven` - average number of customers who visited in the last seven days\n",
    "- `max_month` - number of customers on the day that got the most customers in the last month\n",
    "- `min_month` - number of customers on the day that got the least customers in the last month\n",
    "\n",
    "Answer this question by writing code.  For instance, if you have to find the minimum value in a list, use `min()` instead of scanning for the smallest value and directly filling in a number."
   ]
  },
  {
   "cell_type": "code",
   "execution_count": 4,
   "id": "a92661a5",
   "metadata": {
    "execution": {
     "iopub.execute_input": "2023-09-06T04:56:31.670945Z",
     "iopub.status.busy": "2023-09-06T04:56:31.669911Z",
     "iopub.status.idle": "2023-09-06T04:56:31.688725Z",
     "shell.execute_reply": "2023-09-06T04:56:31.687458Z"
    },
    "papermill": {
     "duration": 0.036021,
     "end_time": "2023-09-06T04:56:31.691508",
     "exception": false,
     "start_time": "2023-09-06T04:56:31.655487",
     "status": "completed"
    },
    "tags": []
   },
   "outputs": [
    {
     "data": {
      "application/javascript": [
       "parent.postMessage({\"jupyterEvent\": \"custom.exercise_interaction\", \"data\": {\"outcomeType\": 1, \"valueTowardsCompletion\": 0.2, \"interactionType\": 1, \"questionType\": 1, \"questionId\": \"2_NumCustomers\", \"learnToolsVersion\": \"0.3.4\", \"failureMessage\": \"\", \"exceptionClass\": \"\", \"trace\": \"\"}}, \"*\")"
      ],
      "text/plain": [
       "<IPython.core.display.Javascript object>"
      ]
     },
     "metadata": {},
     "output_type": "display_data"
    },
    {
     "data": {
      "text/markdown": [
       "<span style=\"color:#33cc33\">Correct</span>"
      ],
      "text/plain": [
       "Correct"
      ]
     },
     "metadata": {},
     "output_type": "display_data"
    }
   ],
   "source": [
    "# Do not change: Number of customers each day for the last month\n",
    "num_customers = [137, 147, 135, 128, 170, 174, 165, 146, 126, 159,\n",
    "                 141, 148, 132, 147, 168, 153, 170, 161, 148, 152,\n",
    "                 141, 151, 131, 149, 164, 163, 143, 143, 166, 171]\n",
    "\n",
    "# TODO: Fill in values for the variables below\n",
    "avg_first_seven = sum(num_customers[:7])/7 \n",
    "avg_last_seven = sum(num_customers[-7:])/7\n",
    "max_month = max(num_customers)\n",
    "min_month = min(num_customers)\n",
    "\n",
    "# Do not change: Check your answer\n",
    "q2.check()"
   ]
  },
  {
   "cell_type": "code",
   "execution_count": 5,
   "id": "9f58a233",
   "metadata": {
    "execution": {
     "iopub.execute_input": "2023-09-06T04:56:31.718202Z",
     "iopub.status.busy": "2023-09-06T04:56:31.717412Z",
     "iopub.status.idle": "2023-09-06T04:56:31.722646Z",
     "shell.execute_reply": "2023-09-06T04:56:31.721687Z"
    },
    "papermill": {
     "duration": 0.022338,
     "end_time": "2023-09-06T04:56:31.725822",
     "exception": false,
     "start_time": "2023-09-06T04:56:31.703484",
     "status": "completed"
    },
    "tags": []
   },
   "outputs": [],
   "source": [
    "# Uncomment to see a hint\n",
    "#q2.hint()\n",
    "\n",
    "# Uncomment to see the solution\n",
    "#q2.solution()"
   ]
  },
  {
   "cell_type": "markdown",
   "id": "3345096c",
   "metadata": {
    "papermill": {
     "duration": 0.015399,
     "end_time": "2023-09-06T04:56:31.755298",
     "exception": false,
     "start_time": "2023-09-06T04:56:31.739899",
     "status": "completed"
    },
    "tags": []
   },
   "source": [
    "# Question 3\n",
    "\n",
    "In the tutorial, we gave an example of a Python string with information that was better as a list."
   ]
  },
  {
   "cell_type": "code",
   "execution_count": 6,
   "id": "5df0482b",
   "metadata": {
    "execution": {
     "iopub.execute_input": "2023-09-06T04:56:31.783629Z",
     "iopub.status.busy": "2023-09-06T04:56:31.782797Z",
     "iopub.status.idle": "2023-09-06T04:56:31.788827Z",
     "shell.execute_reply": "2023-09-06T04:56:31.787434Z"
    },
    "papermill": {
     "duration": 0.023437,
     "end_time": "2023-09-06T04:56:31.791728",
     "exception": false,
     "start_time": "2023-09-06T04:56:31.768291",
     "status": "completed"
    },
    "tags": []
   },
   "outputs": [],
   "source": [
    "flowers = \"pink primrose,hard-leaved pocket orchid,canterbury bells,sweet pea,english marigold,tiger lily,moon orchid,bird of paradise,monkshood,globe thistle\""
   ]
  },
  {
   "cell_type": "markdown",
   "id": "749f2ff7",
   "metadata": {
    "papermill": {
     "duration": 0.011232,
     "end_time": "2023-09-06T04:56:31.814673",
     "exception": false,
     "start_time": "2023-09-06T04:56:31.803441",
     "status": "completed"
    },
    "tags": []
   },
   "source": [
    "You can actually use Python to quickly turn this string into a list with `.split()`.  In the parentheses, we need to provide the character should be used to mark the end of one list item and the beginning of another, and enclose it in quotation marks.  In this case, that character is a comma."
   ]
  },
  {
   "cell_type": "code",
   "execution_count": 7,
   "id": "89e9e0d3",
   "metadata": {
    "execution": {
     "iopub.execute_input": "2023-09-06T04:56:31.844587Z",
     "iopub.status.busy": "2023-09-06T04:56:31.843994Z",
     "iopub.status.idle": "2023-09-06T04:56:31.851748Z",
     "shell.execute_reply": "2023-09-06T04:56:31.850138Z"
    },
    "papermill": {
     "duration": 0.028326,
     "end_time": "2023-09-06T04:56:31.855772",
     "exception": false,
     "start_time": "2023-09-06T04:56:31.827446",
     "status": "completed"
    },
    "tags": []
   },
   "outputs": [
    {
     "name": "stdout",
     "output_type": "stream",
     "text": [
      "['pink primrose', 'hard-leaved pocket orchid', 'canterbury bells', 'sweet pea', 'english marigold', 'tiger lily', 'moon orchid', 'bird of paradise', 'monkshood', 'globe thistle']\n"
     ]
    }
   ],
   "source": [
    " print(flowers.split(\",\"))"
   ]
  },
  {
   "cell_type": "markdown",
   "id": "dbc9b148",
   "metadata": {
    "papermill": {
     "duration": 0.015562,
     "end_time": "2023-09-06T04:56:31.887943",
     "exception": false,
     "start_time": "2023-09-06T04:56:31.872381",
     "status": "completed"
    },
    "tags": []
   },
   "source": [
    "Now it is your turn to try this out!  Create two Python lists:\n",
    "- `letters` should be a Python list where each entry is an uppercase letter of the English alphabet.  For instance, the first two entries should be `\"A\"` and `\"B\"`, and the final two entries should be `\"Y\"` and `\"Z\"`.  Use the string `alphabet` to create this list.\n",
    "- `address` should be a Python list where each row in `address` is a different item in the list.  Currently, each row in `address` is separated by a comma. "
   ]
  },
  {
   "cell_type": "code",
   "execution_count": 8,
   "id": "c21744a8",
   "metadata": {
    "execution": {
     "iopub.execute_input": "2023-09-06T04:56:31.924159Z",
     "iopub.status.busy": "2023-09-06T04:56:31.922835Z",
     "iopub.status.idle": "2023-09-06T04:56:31.933910Z",
     "shell.execute_reply": "2023-09-06T04:56:31.933068Z"
    },
    "papermill": {
     "duration": 0.033449,
     "end_time": "2023-09-06T04:56:31.937827",
     "exception": false,
     "start_time": "2023-09-06T04:56:31.904378",
     "status": "completed"
    },
    "tags": []
   },
   "outputs": [
    {
     "data": {
      "application/javascript": [
       "parent.postMessage({\"jupyterEvent\": \"custom.exercise_interaction\", \"data\": {\"outcomeType\": 1, \"valueTowardsCompletion\": 0.2, \"interactionType\": 1, \"questionType\": 1, \"questionId\": \"3_SplitString\", \"learnToolsVersion\": \"0.3.4\", \"failureMessage\": \"\", \"exceptionClass\": \"\", \"trace\": \"\"}}, \"*\")"
      ],
      "text/plain": [
       "<IPython.core.display.Javascript object>"
      ]
     },
     "metadata": {},
     "output_type": "display_data"
    },
    {
     "data": {
      "text/markdown": [
       "<span style=\"color:#33cc33\">Correct</span>"
      ],
      "text/plain": [
       "Correct"
      ]
     },
     "metadata": {},
     "output_type": "display_data"
    }
   ],
   "source": [
    "# DO not change: Define two Python strings\n",
    "alphabet = \"A.B.C.D.E.F.G.H.I.J.K.L.M.N.O.P.Q.R.S.T.U.V.W.X.Y.Z\"\n",
    "address = \"Mr. H. Potter,The cupboard under the Stairs,4 Privet Drive,Little Whinging,Surrey\"\n",
    "\n",
    "# TODO: Convert strings into Python lists\n",
    "letters = alphabet.split(\".\")\n",
    "formatted_address = address.split(\",\")\n",
    "\n",
    "# Do not change: Check your answer\n",
    "q3.check()"
   ]
  },
  {
   "cell_type": "code",
   "execution_count": 9,
   "id": "fc956a93",
   "metadata": {
    "execution": {
     "iopub.execute_input": "2023-09-06T04:56:31.972173Z",
     "iopub.status.busy": "2023-09-06T04:56:31.971357Z",
     "iopub.status.idle": "2023-09-06T04:56:31.975292Z",
     "shell.execute_reply": "2023-09-06T04:56:31.974542Z"
    },
    "papermill": {
     "duration": 0.024424,
     "end_time": "2023-09-06T04:56:31.977500",
     "exception": false,
     "start_time": "2023-09-06T04:56:31.953076",
     "status": "completed"
    },
    "tags": []
   },
   "outputs": [],
   "source": [
    "# Uncomment to see a hint\n",
    "#q3.hint()\n",
    "\n",
    "# Uncomment to see the solution\n",
    "#q3.solution()"
   ]
  },
  {
   "cell_type": "markdown",
   "id": "f2bffd89",
   "metadata": {
    "papermill": {
     "duration": 0.011613,
     "end_time": "2023-09-06T04:56:32.001158",
     "exception": false,
     "start_time": "2023-09-06T04:56:31.989545",
     "status": "completed"
    },
    "tags": []
   },
   "source": [
    "# Question 4\n",
    "\n",
    "In the Python course, you'll learn all about **list comprehensions**, which allow you to create a list based on the values in another list.  In this question, you'll get a brief preview of how they work.\n",
    "\n",
    "Say we're working with the list below."
   ]
  },
  {
   "cell_type": "code",
   "execution_count": 10,
   "id": "b943c5e8",
   "metadata": {
    "execution": {
     "iopub.execute_input": "2023-09-06T04:56:32.031817Z",
     "iopub.status.busy": "2023-09-06T04:56:32.030041Z",
     "iopub.status.idle": "2023-09-06T04:56:32.037493Z",
     "shell.execute_reply": "2023-09-06T04:56:32.036144Z"
    },
    "papermill": {
     "duration": 0.027366,
     "end_time": "2023-09-06T04:56:32.040758",
     "exception": false,
     "start_time": "2023-09-06T04:56:32.013392",
     "status": "completed"
    },
    "tags": []
   },
   "outputs": [],
   "source": [
    "test_ratings = [1, 2, 3, 4, 5]"
   ]
  },
  {
   "cell_type": "markdown",
   "id": "3ac0137f",
   "metadata": {
    "papermill": {
     "duration": 0.012603,
     "end_time": "2023-09-06T04:56:32.067543",
     "exception": false,
     "start_time": "2023-09-06T04:56:32.054940",
     "status": "completed"
    },
    "tags": []
   },
   "source": [
    "Then we can use this list (`test_ratings`) to create a new list (`test_liked`) where each item has been turned into a boolean, depending on whether or not the item is greater than or equal to four."
   ]
  },
  {
   "cell_type": "code",
   "execution_count": 11,
   "id": "60b3c4b5",
   "metadata": {
    "execution": {
     "iopub.execute_input": "2023-09-06T04:56:32.094639Z",
     "iopub.status.busy": "2023-09-06T04:56:32.093716Z",
     "iopub.status.idle": "2023-09-06T04:56:32.100695Z",
     "shell.execute_reply": "2023-09-06T04:56:32.099319Z"
    },
    "papermill": {
     "duration": 0.023953,
     "end_time": "2023-09-06T04:56:32.103726",
     "exception": false,
     "start_time": "2023-09-06T04:56:32.079773",
     "status": "completed"
    },
    "tags": []
   },
   "outputs": [
    {
     "name": "stdout",
     "output_type": "stream",
     "text": [
      "[False, False, False, True, True]\n"
     ]
    }
   ],
   "source": [
    "test_liked = [i>=4 for i in test_ratings]\n",
    "print(test_liked)"
   ]
  },
  {
   "cell_type": "markdown",
   "id": "378d9c7d",
   "metadata": {
    "papermill": {
     "duration": 0.012433,
     "end_time": "2023-09-06T04:56:32.129923",
     "exception": false,
     "start_time": "2023-09-06T04:56:32.117490",
     "status": "completed"
    },
    "tags": []
   },
   "source": [
    "In this question, you'll use this list comprehension to define a function `percentage_liked()` that takes one argument as input:\n",
    "- `ratings`: list of ratings that people gave to a movie, where each rating is a number between 1-5, inclusive\n",
    "\n",
    "We say someone liked the movie, if they gave a rating of either 4 or 5.  Your function should return the percentage of people who liked the movie.\n",
    "\n",
    "For instance, if we supply a value of `[1, 2, 3, 4, 5, 4, 5, 1]`, then 50% (4/8) of the people liked the movie, and the function should return `0.5`.\n",
    "\n",
    "Part of the function has already been completed for you.  You need only use `list_liked` to calculate `percentage_liked`."
   ]
  },
  {
   "cell_type": "code",
   "execution_count": 12,
   "id": "c9780fd7",
   "metadata": {
    "execution": {
     "iopub.execute_input": "2023-09-06T04:56:32.156894Z",
     "iopub.status.busy": "2023-09-06T04:56:32.156420Z",
     "iopub.status.idle": "2023-09-06T04:56:32.169788Z",
     "shell.execute_reply": "2023-09-06T04:56:32.168603Z"
    },
    "papermill": {
     "duration": 0.029561,
     "end_time": "2023-09-06T04:56:32.172283",
     "exception": false,
     "start_time": "2023-09-06T04:56:32.142722",
     "status": "completed"
    },
    "tags": []
   },
   "outputs": [
    {
     "data": {
      "application/javascript": [
       "parent.postMessage({\"jupyterEvent\": \"custom.exercise_interaction\", \"data\": {\"outcomeType\": 1, \"valueTowardsCompletion\": 0.2, \"interactionType\": 1, \"questionType\": 2, \"questionId\": \"4_PercentageLiked\", \"learnToolsVersion\": \"0.3.4\", \"failureMessage\": \"\", \"exceptionClass\": \"\", \"trace\": \"\"}}, \"*\")"
      ],
      "text/plain": [
       "<IPython.core.display.Javascript object>"
      ]
     },
     "metadata": {},
     "output_type": "display_data"
    },
    {
     "data": {
      "text/markdown": [
       "<span style=\"color:#33cc33\">Correct</span>"
      ],
      "text/plain": [
       "Correct"
      ]
     },
     "metadata": {},
     "output_type": "display_data"
    }
   ],
   "source": [
    "\n",
    "def percentage_liked(ratings):\n",
    "    list_liked = [i>=4 for i in ratings]\n",
    "    # TODO: Complete the function\n",
    "    percentage_liked = sum(list_liked)/len(ratings)\n",
    "    return percentage_liked\n",
    "\n",
    "# Do not change: should return 0.5\n",
    "percentage_liked([1, 2, 3, 4, 5, 4, 5, 1])\n",
    "\n",
    "# Do not change: Check your answer\n",
    "q4.check()"
   ]
  },
  {
   "cell_type": "code",
   "execution_count": 13,
   "id": "c0aa0485",
   "metadata": {
    "execution": {
     "iopub.execute_input": "2023-09-06T04:56:32.200065Z",
     "iopub.status.busy": "2023-09-06T04:56:32.199331Z",
     "iopub.status.idle": "2023-09-06T04:56:32.204137Z",
     "shell.execute_reply": "2023-09-06T04:56:32.203299Z"
    },
    "papermill": {
     "duration": 0.021513,
     "end_time": "2023-09-06T04:56:32.206536",
     "exception": false,
     "start_time": "2023-09-06T04:56:32.185023",
     "status": "completed"
    },
    "tags": []
   },
   "outputs": [],
   "source": [
    "# Uncomment to see a hint\n",
    "#q4.hint()\n",
    "\n",
    "# Uncomment to see the solution\n",
    "#q4.solution()"
   ]
  },
  {
   "cell_type": "markdown",
   "id": "3b4a4fc7",
   "metadata": {
    "papermill": {
     "duration": 0.012203,
     "end_time": "2023-09-06T04:56:32.231049",
     "exception": false,
     "start_time": "2023-09-06T04:56:32.218846",
     "status": "completed"
    },
    "tags": []
   },
   "source": [
    "# 🌶️ Question 5\n",
    " \n",
    "Say you're doing analytics for a website.  You need to write a function that returns the percentage growth in the total number of users relative to a specified number of years ago.\n",
    "\n",
    "Your function `percentage_growth()` should take two arguments as input:\n",
    "- `num_users` = Python list with the total number of users each year.  So `num_users[0]` is the total number of users in the first year, `num_users[1]` is the total number of users in the second year, and so on.  The final entry in the list gives the total number of users in the most recently completed year.\n",
    "- `yrs_ago` = number of years to go back in time when calculating the growth percentage\n",
    "\n",
    "For instance, say `num_users = [920344, 1043553, 1204334, 1458996, 1503323, 1593432, 1623463, 1843064, 1930992, 2001078]`.\n",
    "- if `yrs_ago = 1`, we want the function to return a value of about `0.036`. This corresponds to a percentage growth of approximately 3.6%, calculated as (2001078 - 1930992)/1930992.\n",
    "- if `years_ago = 7`, we would want to return approximately `0.66`.  This corresponds to a percentage growth of approximately 66%, calculated as (2001078 - 1204334)/1204334.\n",
    "\n",
    "Your coworker sent you a draft of a function, but it doesn't seem to be doing the correct calculation.  Can you figure out what has gone wrong and make the needed changes?"
   ]
  },
  {
   "cell_type": "code",
   "execution_count": 14,
   "id": "a25cf06c",
   "metadata": {
    "execution": {
     "iopub.execute_input": "2023-09-06T04:56:32.258078Z",
     "iopub.status.busy": "2023-09-06T04:56:32.257364Z",
     "iopub.status.idle": "2023-09-06T04:56:32.271049Z",
     "shell.execute_reply": "2023-09-06T04:56:32.270197Z"
    },
    "papermill": {
     "duration": 0.030026,
     "end_time": "2023-09-06T04:56:32.273299",
     "exception": false,
     "start_time": "2023-09-06T04:56:32.243273",
     "status": "completed"
    },
    "tags": []
   },
   "outputs": [
    {
     "name": "stdout",
     "output_type": "stream",
     "text": [
      "0.03629533421163837\n",
      "0.6615639847417742\n"
     ]
    },
    {
     "data": {
      "application/javascript": [
       "parent.postMessage({\"jupyterEvent\": \"custom.exercise_interaction\", \"data\": {\"outcomeType\": 1, \"valueTowardsCompletion\": 0.2, \"interactionType\": 1, \"questionType\": 2, \"questionId\": \"5_WebsiteAnalytics\", \"learnToolsVersion\": \"0.3.4\", \"failureMessage\": \"\", \"exceptionClass\": \"\", \"trace\": \"\"}}, \"*\")"
      ],
      "text/plain": [
       "<IPython.core.display.Javascript object>"
      ]
     },
     "metadata": {},
     "output_type": "display_data"
    },
    {
     "data": {
      "text/markdown": [
       "<span style=\"color:#33cc33\">Correct</span>"
      ],
      "text/plain": [
       "Correct"
      ]
     },
     "metadata": {},
     "output_type": "display_data"
    }
   ],
   "source": [
    "# TODO: Edit the function\n",
    "def percentage_growth(num_users, yrs_ago):\n",
    "    growth = (num_users[len(num_users)-1] - num_users[len(num_users)-1-yrs_ago])/num_users[len(num_users)-1-yrs_ago]\n",
    "    return growth\n",
    "\n",
    "# Do not change: Variable for calculating some test examples\n",
    "num_users_test = [920344, 1043553, 1204334, 1458996, 1503323, 1593432, 1623463, 1843064, 1930992, 2001078]\n",
    "\n",
    "# Do not change: Should return .036\n",
    "print(percentage_growth(num_users_test, 1))\n",
    "\n",
    "# Do not change: Should return 0.66\n",
    "print(percentage_growth(num_users_test, 7))\n",
    "\n",
    "# Do not change: Check your answer\n",
    "q5.check()"
   ]
  },
  {
   "cell_type": "code",
   "execution_count": 15,
   "id": "e0f3b35e",
   "metadata": {
    "execution": {
     "iopub.execute_input": "2023-09-06T04:56:32.301151Z",
     "iopub.status.busy": "2023-09-06T04:56:32.300442Z",
     "iopub.status.idle": "2023-09-06T04:56:32.304606Z",
     "shell.execute_reply": "2023-09-06T04:56:32.303699Z"
    },
    "papermill": {
     "duration": 0.02072,
     "end_time": "2023-09-06T04:56:32.306846",
     "exception": false,
     "start_time": "2023-09-06T04:56:32.286126",
     "status": "completed"
    },
    "tags": []
   },
   "outputs": [],
   "source": [
    "# Uncomment to see a hint\n",
    "#q5.hint()\n",
    "\n",
    "# Uncomment to see the solution\n",
    "#q5.solution()"
   ]
  },
  {
   "cell_type": "markdown",
   "id": "45ca95a3",
   "metadata": {
    "papermill": {
     "duration": 0.01262,
     "end_time": "2023-09-06T04:56:32.332199",
     "exception": false,
     "start_time": "2023-09-06T04:56:32.319579",
     "status": "completed"
    },
    "tags": []
   },
   "source": [
    "# Congratulations!\n",
    "\n",
    "Congratulations for finishing the Intro to Programming course!  You should be proud of your very first steps with learning programming.  As next steps, we recommend taking:\n",
    "- the **[Python course](http://www.kaggle.com/learn/python)**, and \n",
    "- the **[Intro to Machine Learning course](https://www.kaggle.com/learn/intro-to-machine-learning)**."
   ]
  },
  {
   "cell_type": "markdown",
   "id": "8fce6989",
   "metadata": {
    "papermill": {
     "duration": 0.012553,
     "end_time": "2023-09-06T04:56:32.357390",
     "exception": false,
     "start_time": "2023-09-06T04:56:32.344837",
     "status": "completed"
    },
    "tags": []
   },
   "source": [
    "---\n",
    "\n",
    "\n",
    "\n",
    "\n",
    "*Have questions or comments? Visit the [course discussion forum](https://www.kaggle.com/learn/intro-to-programming/discussion) to chat with other learners.*"
   ]
  }
 ],
 "kernelspec": {
  "display_name": "Python 3",
  "language": "python",
  "name": "python3"
 },
 "language_info": {
  "codemirror_mode": {
   "name": "ipython",
   "version": 3
  },
  "file_extension": ".py",
  "mimetype": "text/x-python",
  "name": "python",
  "nbconvert_exporter": "python",
  "pygments_lexer": "ipython3",
  "version": "3.6.4"
 },
 "metadata": {
  "kernelspec": {
   "display_name": "Python 3",
   "language": "python",
   "name": "python3"
  },
  "language_info": {
   "codemirror_mode": {
    "name": "ipython",
    "version": 3
   },
   "file_extension": ".py",
   "mimetype": "text/x-python",
   "name": "python",
   "nbconvert_exporter": "python",
   "pygments_lexer": "ipython3",
   "version": "3.10.12"
  },
  "papermill": {
   "default_parameters": {},
   "duration": 7.670219,
   "end_time": "2023-09-06T04:56:32.993147",
   "environment_variables": {},
   "exception": null,
   "input_path": "__notebook__.ipynb",
   "output_path": "__notebook__.ipynb",
   "parameters": {},
   "start_time": "2023-09-06T04:56:25.322928",
   "version": "2.4.0"
  }
 },
 "nbformat": 4,
 "nbformat_minor": 5
}
