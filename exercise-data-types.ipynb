{
 "cells": [
  {
   "cell_type": "markdown",
   "id": "9f7c46d1",
   "metadata": {
    "papermill": {
     "duration": 0.009495,
     "end_time": "2023-08-04T06:45:34.860259",
     "exception": false,
     "start_time": "2023-08-04T06:45:34.850764",
     "status": "completed"
    },
    "tags": []
   },
   "source": [
    "**This notebook is an exercise in the [Intro to Programming](https://www.kaggle.com/learn/intro-to-programming) course.  You can reference the tutorial at [this link](https://www.kaggle.com/alexisbcook/data-types).**\n",
    "\n",
    "---\n"
   ]
  },
  {
   "cell_type": "markdown",
   "id": "ce2943bf",
   "metadata": {
    "papermill": {
     "duration": 0.008391,
     "end_time": "2023-08-04T06:45:34.877680",
     "exception": false,
     "start_time": "2023-08-04T06:45:34.869289",
     "status": "completed"
    },
    "tags": []
   },
   "source": [
    "In the tutorial, you learned about four different data types: floats, integers, strings, and booleans.  In this exercise, you'll experiment with them.\n",
    "\n",
    "# Set up the notebook\n",
    "\n",
    "Run the next code cell without changes to set up the notebook."
   ]
  },
  {
   "cell_type": "code",
   "execution_count": 1,
   "id": "a13f1b44",
   "metadata": {
    "execution": {
     "iopub.execute_input": "2023-08-04T06:45:34.897207Z",
     "iopub.status.busy": "2023-08-04T06:45:34.896670Z",
     "iopub.status.idle": "2023-08-04T06:45:34.955019Z",
     "shell.execute_reply": "2023-08-04T06:45:34.952148Z"
    },
    "papermill": {
     "duration": 0.07143,
     "end_time": "2023-08-04T06:45:34.957750",
     "exception": false,
     "start_time": "2023-08-04T06:45:34.886320",
     "status": "completed"
    },
    "tags": []
   },
   "outputs": [
    {
     "name": "stdout",
     "output_type": "stream",
     "text": [
      "Setup complete.\n"
     ]
    }
   ],
   "source": [
    "# Set up the exercise\n",
    "from learntools.core import binder\n",
    "binder.bind(globals())\n",
    "from learntools.intro_to_programming.ex3 import *\n",
    "print('Setup complete.')"
   ]
  },
  {
   "cell_type": "markdown",
   "id": "7f54a76c",
   "metadata": {
    "papermill": {
     "duration": 0.008358,
     "end_time": "2023-08-04T06:45:34.975140",
     "exception": false,
     "start_time": "2023-08-04T06:45:34.966782",
     "status": "completed"
    },
    "tags": []
   },
   "source": [
    "# Question 1\n",
    "\n",
    "You have seen how to convert a float to an integer with the `int` function.  Try this out yourself by running the code cell below."
   ]
  },
  {
   "cell_type": "code",
   "execution_count": 2,
   "id": "0fad249b",
   "metadata": {
    "execution": {
     "iopub.execute_input": "2023-08-04T06:45:34.995424Z",
     "iopub.status.busy": "2023-08-04T06:45:34.994966Z",
     "iopub.status.idle": "2023-08-04T06:45:35.001783Z",
     "shell.execute_reply": "2023-08-04T06:45:35.000610Z"
    },
    "papermill": {
     "duration": 0.020435,
     "end_time": "2023-08-04T06:45:35.004793",
     "exception": false,
     "start_time": "2023-08-04T06:45:34.984358",
     "status": "completed"
    },
    "tags": []
   },
   "outputs": [
    {
     "name": "stdout",
     "output_type": "stream",
     "text": [
      "1.0\n",
      "<class 'float'>\n",
      "1\n",
      "<class 'int'>\n"
     ]
    }
   ],
   "source": [
    "# Define a float\n",
    "y = 1.\n",
    "print(y)\n",
    "print(type(y))\n",
    "\n",
    "# Convert float to integer with the int function\n",
    "z = int(y)\n",
    "print(z)\n",
    "print(type(z))"
   ]
  },
  {
   "cell_type": "markdown",
   "id": "04607c96",
   "metadata": {
    "papermill": {
     "duration": 0.008448,
     "end_time": "2023-08-04T06:45:35.022172",
     "exception": false,
     "start_time": "2023-08-04T06:45:35.013724",
     "status": "completed"
    },
    "tags": []
   },
   "source": [
    "In this case, the float you are using has no numbers after the decimal.  \n",
    "- But what happens when you try to convert a float with a fractional part to an integer?  \n",
    "- How does the outcome of the `int` function change for positive and negative numbers?\n",
    "\n",
    "Use the next code cell to investigate and answer these questions.  Feel free to add or remove any lines of code -- it is your workspace!"
   ]
  },
  {
   "cell_type": "code",
   "execution_count": 3,
   "id": "c83905cd",
   "metadata": {
    "execution": {
     "iopub.execute_input": "2023-08-04T06:45:35.044543Z",
     "iopub.status.busy": "2023-08-04T06:45:35.043450Z",
     "iopub.status.idle": "2023-08-04T06:45:35.051277Z",
     "shell.execute_reply": "2023-08-04T06:45:35.049896Z"
    },
    "papermill": {
     "duration": 0.02101,
     "end_time": "2023-08-04T06:45:35.053845",
     "exception": false,
     "start_time": "2023-08-04T06:45:35.032835",
     "status": "completed"
    },
    "tags": []
   },
   "outputs": [
    {
     "name": "stdout",
     "output_type": "stream",
     "text": [
      "1\n",
      "1\n",
      "-3\n",
      "-2\n"
     ]
    }
   ],
   "source": [
    "# Uncomment and run this code to get started!\n",
    "print(int(1.2321))\n",
    "print(int(1.747))\n",
    "print(int(-3.94535))\n",
    "print(int(-2.19774))"
   ]
  },
  {
   "cell_type": "markdown",
   "id": "73699c27",
   "metadata": {
    "papermill": {
     "duration": 0.008703,
     "end_time": "2023-08-04T06:45:35.071614",
     "exception": false,
     "start_time": "2023-08-04T06:45:35.062911",
     "status": "completed"
    },
    "tags": []
   },
   "source": [
    "Once you have an answer, run the code cell below to see the solution.  Viewing the solution will give you credit for answering the problem."
   ]
  },
  {
   "cell_type": "code",
   "execution_count": 4,
   "id": "6f1772a6",
   "metadata": {
    "execution": {
     "iopub.execute_input": "2023-08-04T06:45:35.091756Z",
     "iopub.status.busy": "2023-08-04T06:45:35.091241Z",
     "iopub.status.idle": "2023-08-04T06:45:35.101918Z",
     "shell.execute_reply": "2023-08-04T06:45:35.101070Z"
    },
    "papermill": {
     "duration": 0.023629,
     "end_time": "2023-08-04T06:45:35.104183",
     "exception": false,
     "start_time": "2023-08-04T06:45:35.080554",
     "status": "completed"
    },
    "tags": []
   },
   "outputs": [
    {
     "data": {
      "application/javascript": [
       "parent.postMessage({\"jupyterEvent\": \"custom.exercise_interaction\", \"data\": {\"outcomeType\": 1, \"valueTowardsCompletion\": 0.2, \"interactionType\": 1, \"questionType\": 4, \"questionId\": \"1_FloatToInt\", \"learnToolsVersion\": \"0.3.4\", \"failureMessage\": \"\", \"exceptionClass\": \"\", \"trace\": \"\"}}, \"*\")"
      ],
      "text/plain": [
       "<IPython.core.display.Javascript object>"
      ]
     },
     "metadata": {},
     "output_type": "display_data"
    },
    {
     "data": {
      "text/markdown": [
       "<span style=\"color:#33cc33\">Correct:</span> \n",
       "\n",
       "Negative floats are always rounded UP to the closest integer (for instance, both -1.1 and -1.9 are rounded up to -1). Positive floats are always rounded DOWN to the closest integer (for instance, 2.1 and 2.9 are rounded down to 2)."
      ],
      "text/plain": [
       "Correct: \n",
       "\n",
       "Negative floats are always rounded UP to the closest integer (for instance, both -1.1 and -1.9 are rounded up to -1). Positive floats are always rounded DOWN to the closest integer (for instance, 2.1 and 2.9 are rounded down to 2)."
      ]
     },
     "metadata": {},
     "output_type": "display_data"
    }
   ],
   "source": [
    "# Check your answer (Run this code cell to receive credit!)\n",
    "q1.check()"
   ]
  },
  {
   "cell_type": "markdown",
   "id": "ad419cf6",
   "metadata": {
    "papermill": {
     "duration": 0.009405,
     "end_time": "2023-08-04T06:45:35.123038",
     "exception": false,
     "start_time": "2023-08-04T06:45:35.113633",
     "status": "completed"
    },
    "tags": []
   },
   "source": [
    "# Question 2\n",
    "\n",
    "In the tutorial, you learned about booleans (which can take a value of `True` or `False`), in addition to integers, floats, and strings.  For this question, your goal is to determine what happens when you multiply a boolean by any of these data types.  Specifically, \n",
    "- What happens when you multiply an integer or float by `True`?  What happens when you multiply them by `False`?  How does the answer change if the numbers are positive or negative?\n",
    "- What happens when you multiply a string by `True`?  By `False`?\n",
    "\n",
    "Use the next code cell for your investigation. "
   ]
  },
  {
   "cell_type": "code",
   "execution_count": 5,
   "id": "fe650260",
   "metadata": {
    "execution": {
     "iopub.execute_input": "2023-08-04T06:45:35.144030Z",
     "iopub.status.busy": "2023-08-04T06:45:35.143204Z",
     "iopub.status.idle": "2023-08-04T06:45:35.150013Z",
     "shell.execute_reply": "2023-08-04T06:45:35.148849Z"
    },
    "papermill": {
     "duration": 0.020001,
     "end_time": "2023-08-04T06:45:35.152389",
     "exception": false,
     "start_time": "2023-08-04T06:45:35.132388",
     "status": "completed"
    },
    "tags": []
   },
   "outputs": [
    {
     "name": "stdout",
     "output_type": "stream",
     "text": [
      "3\n",
      "-3.1\n",
      "<class 'str'>\n",
      "0\n"
     ]
    }
   ],
   "source": [
    "# Uncomment and run this code to get started!\n",
    "print(3 * True)\n",
    "print(-3.1 * True)\n",
    "print(type(\"abc\" * False))\n",
    "print(len(\"abc\" * False))"
   ]
  },
  {
   "cell_type": "markdown",
   "id": "79eae774",
   "metadata": {
    "papermill": {
     "duration": 0.009597,
     "end_time": "2023-08-04T06:45:35.171555",
     "exception": false,
     "start_time": "2023-08-04T06:45:35.161958",
     "status": "completed"
    },
    "tags": []
   },
   "source": [
    "Once you have an answer, run the code cell below to see the solution.  Viewing the solution will give you credit for answering the problem."
   ]
  },
  {
   "cell_type": "code",
   "execution_count": 6,
   "id": "9e375bc5",
   "metadata": {
    "execution": {
     "iopub.execute_input": "2023-08-04T06:45:35.192862Z",
     "iopub.status.busy": "2023-08-04T06:45:35.192352Z",
     "iopub.status.idle": "2023-08-04T06:45:35.201597Z",
     "shell.execute_reply": "2023-08-04T06:45:35.200375Z"
    },
    "papermill": {
     "duration": 0.023193,
     "end_time": "2023-08-04T06:45:35.204233",
     "exception": false,
     "start_time": "2023-08-04T06:45:35.181040",
     "status": "completed"
    },
    "tags": []
   },
   "outputs": [
    {
     "data": {
      "application/javascript": [
       "parent.postMessage({\"jupyterEvent\": \"custom.exercise_interaction\", \"data\": {\"outcomeType\": 1, \"valueTowardsCompletion\": 0.2, \"interactionType\": 1, \"questionType\": 4, \"questionId\": \"2_MultiplyBooleans\", \"learnToolsVersion\": \"0.3.4\", \"failureMessage\": \"\", \"exceptionClass\": \"\", \"trace\": \"\"}}, \"*\")"
      ],
      "text/plain": [
       "<IPython.core.display.Javascript object>"
      ]
     },
     "metadata": {},
     "output_type": "display_data"
    },
    {
     "data": {
      "text/markdown": [
       "<span style=\"color:#33cc33\">Correct:</span> \n",
       "\n",
       "When you multiple an integer or float by a boolean with value `True`, it just returns that same integer or float (and is equivalent to multiplying by 1).  If you multiply an integer or float by a boolean with value `False`, it always returns 0.  This is true for both positive and negative numbers.  If you multiply a string by a boolean with value `True`, it just returns that same string.  And if you multiply a string by a boolean with value `False`, it returns an empty string (or a string with length zero)."
      ],
      "text/plain": [
       "Correct: \n",
       "\n",
       "When you multiple an integer or float by a boolean with value `True`, it just returns that same integer or float (and is equivalent to multiplying by 1).  If you multiply an integer or float by a boolean with value `False`, it always returns 0.  This is true for both positive and negative numbers.  If you multiply a string by a boolean with value `True`, it just returns that same string.  And if you multiply a string by a boolean with value `False`, it returns an empty string (or a string with length zero)."
      ]
     },
     "metadata": {},
     "output_type": "display_data"
    }
   ],
   "source": [
    "# Check your answer (Run this code cell to receive credit!)\n",
    "q2.check()"
   ]
  },
  {
   "cell_type": "markdown",
   "id": "fa2e3f9a",
   "metadata": {
    "papermill": {
     "duration": 0.0096,
     "end_time": "2023-08-04T06:45:35.223994",
     "exception": false,
     "start_time": "2023-08-04T06:45:35.214394",
     "status": "completed"
    },
    "tags": []
   },
   "source": [
    "# Question 3\n",
    "\n",
    "In this question, you will build off your work from the previous exercise to write a function that estimates the value of a house.\n",
    "\n",
    "Use the next code cell to create a function `get_expected_cost` that takes as input three variables:\n",
    "- `beds` - number of bedrooms (data type float)\n",
    "- `baths` - number of bathrooms (data type float)\n",
    "- `has_basement` - whether or not the house has a basement (data type boolean)\n",
    "\n",
    "It should return the expected cost of a house with those characteristics. Assume that:\n",
    "- the expected cost for a house with 0 bedrooms and 0 bathrooms, and no basement is 80000, \n",
    "- each bedroom adds 30000 to the expected cost,\n",
    "- each bathroom adds 10000 to the expected cost, and\n",
    "- a basement adds 40000 to the expected cost.\n",
    "\n",
    "For instance,\n",
    "- a house with 1 bedroom, 1 bathroom, and no basement has an expected cost of 80000 + 30000 + 10000 = 120000.  This value will be calculated with `get_expected_cost(1, 1, False)`.\n",
    "- a house with 2 bedrooms, 1 bathroom, and a basement has an expected cost of 80000 + 2*30000 + 10000 + 40000 = 190000.  This value will be calculated with `get_expected_cost(2, 1, True)`.\n",
    "\n",
    "Remember you can always get a hint by uncommenting `q3.hint()` in the code cell following the next!"
   ]
  },
  {
   "cell_type": "code",
   "execution_count": 7,
   "id": "e78d5c35",
   "metadata": {
    "execution": {
     "iopub.execute_input": "2023-08-04T06:45:35.246248Z",
     "iopub.status.busy": "2023-08-04T06:45:35.245779Z",
     "iopub.status.idle": "2023-08-04T06:45:35.256065Z",
     "shell.execute_reply": "2023-08-04T06:45:35.254865Z"
    },
    "papermill": {
     "duration": 0.024723,
     "end_time": "2023-08-04T06:45:35.258658",
     "exception": false,
     "start_time": "2023-08-04T06:45:35.233935",
     "status": "completed"
    },
    "tags": []
   },
   "outputs": [
    {
     "data": {
      "application/javascript": [
       "parent.postMessage({\"jupyterEvent\": \"custom.exercise_interaction\", \"data\": {\"outcomeType\": 1, \"valueTowardsCompletion\": 0.2, \"interactionType\": 1, \"questionType\": 2, \"questionId\": \"3_EstimateHouseValueBool\", \"learnToolsVersion\": \"0.3.4\", \"failureMessage\": \"\", \"exceptionClass\": \"\", \"trace\": \"\"}}, \"*\")"
      ],
      "text/plain": [
       "<IPython.core.display.Javascript object>"
      ]
     },
     "metadata": {},
     "output_type": "display_data"
    },
    {
     "data": {
      "text/markdown": [
       "<span style=\"color:#33cc33\">Correct</span>"
      ],
      "text/plain": [
       "Correct"
      ]
     },
     "metadata": {},
     "output_type": "display_data"
    }
   ],
   "source": [
    "# TODO: Complete the function\n",
    "def get_expected_cost(beds, baths, has_basement):\n",
    "    value = 80000 + beds * 30000 + baths * 10000 + has_basement * 40000\n",
    "    return value\n",
    "\n",
    "# Check your answer \n",
    "q3.check()"
   ]
  },
  {
   "cell_type": "code",
   "execution_count": 8,
   "id": "edfd9607",
   "metadata": {
    "execution": {
     "iopub.execute_input": "2023-08-04T06:45:35.281614Z",
     "iopub.status.busy": "2023-08-04T06:45:35.281115Z",
     "iopub.status.idle": "2023-08-04T06:45:35.297773Z",
     "shell.execute_reply": "2023-08-04T06:45:35.296415Z"
    },
    "papermill": {
     "duration": 0.031305,
     "end_time": "2023-08-04T06:45:35.300402",
     "exception": false,
     "start_time": "2023-08-04T06:45:35.269097",
     "status": "completed"
    },
    "tags": []
   },
   "outputs": [
    {
     "data": {
      "application/javascript": [
       "parent.postMessage({\"jupyterEvent\": \"custom.exercise_interaction\", \"data\": {\"interactionType\": 2, \"questionType\": 2, \"questionId\": \"3_EstimateHouseValueBool\", \"learnToolsVersion\": \"0.3.4\", \"valueTowardsCompletion\": 0.0, \"failureMessage\": \"\", \"exceptionClass\": \"\", \"trace\": \"\", \"outcomeType\": 4}}, \"*\")"
      ],
      "text/plain": [
       "<IPython.core.display.Javascript object>"
      ]
     },
     "metadata": {},
     "output_type": "display_data"
    },
    {
     "data": {
      "text/markdown": [
       "<span style=\"color:#3366cc\">Hint:</span> The variable `has_basement` is either `True` or `False`.  What happens when you multiply it by 40000 (the value of a basement)?  Refer to the previous question if you are unsure."
      ],
      "text/plain": [
       "Hint: The variable `has_basement` is either `True` or `False`.  What happens when you multiply it by 40000 (the value of a basement)?  Refer to the previous question if you are unsure."
      ]
     },
     "metadata": {},
     "output_type": "display_data"
    },
    {
     "data": {
      "application/javascript": [
       "parent.postMessage({\"jupyterEvent\": \"custom.exercise_interaction\", \"data\": {\"interactionType\": 3, \"questionType\": 2, \"questionId\": \"3_EstimateHouseValueBool\", \"learnToolsVersion\": \"0.3.4\", \"valueTowardsCompletion\": 0.0, \"failureMessage\": \"\", \"exceptionClass\": \"\", \"trace\": \"\", \"outcomeType\": 4}}, \"*\")"
      ],
      "text/plain": [
       "<IPython.core.display.Javascript object>"
      ]
     },
     "metadata": {},
     "output_type": "display_data"
    },
    {
     "data": {
      "text/markdown": [
       "<span style=\"color:#33cc99\">Solution:</span> \n",
       "```python\n",
       "def get_expected_cost(beds, baths, has_basement):\n",
       "    value = 80000 + 30000 * beds + 10000 * baths + 40000 * has_basement\n",
       "    return value\n",
       "\n",
       "```"
      ],
      "text/plain": [
       "Solution: \n",
       "```python\n",
       "def get_expected_cost(beds, baths, has_basement):\n",
       "    value = 80000 + 30000 * beds + 10000 * baths + 40000 * has_basement\n",
       "    return value\n",
       "\n",
       "```"
      ]
     },
     "metadata": {},
     "output_type": "display_data"
    }
   ],
   "source": [
    "# Uncomment to see a hint\n",
    "q3.hint()\n",
    "\n",
    "# Uncomment to view the solution\n",
    "q3.solution()"
   ]
  },
  {
   "cell_type": "markdown",
   "id": "dbfae192",
   "metadata": {
    "papermill": {
     "duration": 0.010752,
     "end_time": "2023-08-04T06:45:35.322310",
     "exception": false,
     "start_time": "2023-08-04T06:45:35.311558",
     "status": "completed"
    },
    "tags": []
   },
   "source": [
    "# Question 4\n",
    "\n",
    "We'll continue our study of boolean arithmetic.  For this question, your task is to provide a description of what happpens when you add booleans. \n",
    "\n",
    "Use the next code cell for your investigation.  Feel free to add or remove any lines of code - use it as your workspace!"
   ]
  },
  {
   "cell_type": "code",
   "execution_count": 9,
   "id": "a66e6e3b",
   "metadata": {
    "execution": {
     "iopub.execute_input": "2023-08-04T06:45:35.346533Z",
     "iopub.status.busy": "2023-08-04T06:45:35.345882Z",
     "iopub.status.idle": "2023-08-04T06:45:35.352967Z",
     "shell.execute_reply": "2023-08-04T06:45:35.351656Z"
    },
    "papermill": {
     "duration": 0.022998,
     "end_time": "2023-08-04T06:45:35.356284",
     "exception": false,
     "start_time": "2023-08-04T06:45:35.333286",
     "status": "completed"
    },
    "tags": []
   },
   "outputs": [
    {
     "name": "stdout",
     "output_type": "stream",
     "text": [
      "0\n",
      "1\n",
      "1\n",
      "2\n",
      "3\n"
     ]
    }
   ],
   "source": [
    "print(False + False)\n",
    "print(True + False)\n",
    "print(False + True)\n",
    "print(True + True)\n",
    "print(False + True + True + True)"
   ]
  },
  {
   "cell_type": "markdown",
   "id": "8b5f1400",
   "metadata": {
    "papermill": {
     "duration": 0.010578,
     "end_time": "2023-08-04T06:45:35.378097",
     "exception": false,
     "start_time": "2023-08-04T06:45:35.367519",
     "status": "completed"
    },
    "tags": []
   },
   "source": [
    "Once you have an answer, run the code cell below to see the solution.  Viewing the solution will give you credit for answering the problem."
   ]
  },
  {
   "cell_type": "code",
   "execution_count": 10,
   "id": "e7f8b65b",
   "metadata": {
    "execution": {
     "iopub.execute_input": "2023-08-04T06:45:35.402271Z",
     "iopub.status.busy": "2023-08-04T06:45:35.401801Z",
     "iopub.status.idle": "2023-08-04T06:45:35.411561Z",
     "shell.execute_reply": "2023-08-04T06:45:35.410375Z"
    },
    "papermill": {
     "duration": 0.024881,
     "end_time": "2023-08-04T06:45:35.413990",
     "exception": false,
     "start_time": "2023-08-04T06:45:35.389109",
     "status": "completed"
    },
    "tags": []
   },
   "outputs": [
    {
     "data": {
      "application/javascript": [
       "parent.postMessage({\"jupyterEvent\": \"custom.exercise_interaction\", \"data\": {\"outcomeType\": 1, \"valueTowardsCompletion\": 0.2, \"interactionType\": 1, \"questionType\": 4, \"questionId\": \"4_AddingBooleans\", \"learnToolsVersion\": \"0.3.4\", \"failureMessage\": \"\", \"exceptionClass\": \"\", \"trace\": \"\"}}, \"*\")"
      ],
      "text/plain": [
       "<IPython.core.display.Javascript object>"
      ]
     },
     "metadata": {},
     "output_type": "display_data"
    },
    {
     "data": {
      "text/markdown": [
       "<span style=\"color:#33cc33\">Correct:</span> \n",
       "\n",
       "When you add booleans, adding `False` is equivalent to adding 0, and adding `True` is equivalent to adding 1."
      ],
      "text/plain": [
       "Correct: \n",
       "\n",
       "When you add booleans, adding `False` is equivalent to adding 0, and adding `True` is equivalent to adding 1."
      ]
     },
     "metadata": {},
     "output_type": "display_data"
    }
   ],
   "source": [
    "# Check your answer (Run this code cell to receive credit!)\n",
    "q4.check()"
   ]
  },
  {
   "cell_type": "markdown",
   "id": "ca177556",
   "metadata": {
    "papermill": {
     "duration": 0.010963,
     "end_time": "2023-08-04T06:45:35.436369",
     "exception": false,
     "start_time": "2023-08-04T06:45:35.425406",
     "status": "completed"
    },
    "tags": []
   },
   "source": [
    "# 🌶️ Question 5\n",
    "\n",
    "You own an online shop where you sell rings with custom engravings.  You offer both gold plated and solid gold rings.\n",
    "- Gold plated rings have a base cost of \\\\$50, and you charge \\\\$7 per engraved unit.  \n",
    "- Solid gold rings have a base cost of \\\\$100, and you charge \\\\$10 per engraved unit.\n",
    "- Spaces and punctuation are counted as engraved units.\n",
    "\n",
    "Write a function `cost_of_project()` that takes two arguments:\n",
    "- `engraving` - a Python string with the text of the engraving\n",
    "- `solid_gold` - a Boolean that indicates whether the ring is solid gold\n",
    "\n",
    "It should return the cost of the project.  This question should be fairly challenging, and you may need a hint."
   ]
  },
  {
   "cell_type": "code",
   "execution_count": 11,
   "id": "abb8f9d2",
   "metadata": {
    "execution": {
     "iopub.execute_input": "2023-08-04T06:45:35.461427Z",
     "iopub.status.busy": "2023-08-04T06:45:35.460562Z",
     "iopub.status.idle": "2023-08-04T06:45:35.471773Z",
     "shell.execute_reply": "2023-08-04T06:45:35.470675Z"
    },
    "papermill": {
     "duration": 0.026364,
     "end_time": "2023-08-04T06:45:35.474200",
     "exception": false,
     "start_time": "2023-08-04T06:45:35.447836",
     "status": "completed"
    },
    "tags": []
   },
   "outputs": [
    {
     "data": {
      "application/javascript": [
       "parent.postMessage({\"jupyterEvent\": \"custom.exercise_interaction\", \"data\": {\"outcomeType\": 1, \"valueTowardsCompletion\": 0.2, \"interactionType\": 1, \"questionType\": 2, \"questionId\": \"5_CustomEngravings\", \"learnToolsVersion\": \"0.3.4\", \"failureMessage\": \"\", \"exceptionClass\": \"\", \"trace\": \"\"}}, \"*\")"
      ],
      "text/plain": [
       "<IPython.core.display.Javascript object>"
      ]
     },
     "metadata": {},
     "output_type": "display_data"
    },
    {
     "data": {
      "text/markdown": [
       "<span style=\"color:#33cc33\">Correct</span>"
      ],
      "text/plain": [
       "Correct"
      ]
     },
     "metadata": {},
     "output_type": "display_data"
    }
   ],
   "source": [
    "def cost_of_project(engraving, solid_gold):\n",
    "    cost = solid_gold * (100 + 10* len(engraving)) + ((not solid_gold) * (50 + len(engraving) * 7))  \n",
    "    return cost\n",
    "\n",
    "# Check your answer\n",
    "q5.check()"
   ]
  },
  {
   "cell_type": "code",
   "execution_count": 12,
   "id": "b42c6345",
   "metadata": {
    "execution": {
     "iopub.execute_input": "2023-08-04T06:45:35.500812Z",
     "iopub.status.busy": "2023-08-04T06:45:35.499723Z",
     "iopub.status.idle": "2023-08-04T06:45:35.513426Z",
     "shell.execute_reply": "2023-08-04T06:45:35.512259Z"
    },
    "papermill": {
     "duration": 0.030002,
     "end_time": "2023-08-04T06:45:35.515911",
     "exception": false,
     "start_time": "2023-08-04T06:45:35.485909",
     "status": "completed"
    },
    "tags": []
   },
   "outputs": [
    {
     "data": {
      "application/javascript": [
       "parent.postMessage({\"jupyterEvent\": \"custom.exercise_interaction\", \"data\": {\"interactionType\": 2, \"questionType\": 2, \"questionId\": \"5_CustomEngravings\", \"learnToolsVersion\": \"0.3.4\", \"valueTowardsCompletion\": 0.0, \"failureMessage\": \"\", \"exceptionClass\": \"\", \"trace\": \"\", \"outcomeType\": 4}}, \"*\")"
      ],
      "text/plain": [
       "<IPython.core.display.Javascript object>"
      ]
     },
     "metadata": {},
     "output_type": "display_data"
    },
    {
     "data": {
      "text/markdown": [
       "<span style=\"color:#3366cc\">Hint:</span> There are two options - either the project uses solid gold or does not.  With this in mind, you can structure your solution like this: `cost = solid_gold * ____ + (not solid_gold) * ____`.  You need to figure out how to fill in the blanks. Also, remember that:\n",
       "- If `solid_gold = True`, then `(not solid_gold) = False`, and if `solid_gold = False`, then `(not solid_gold) = True`.\n",
       "- Multiplying an integer by `True` is equivalent to multiplying it by 1, and multiplying an integer by `False` is equivalent to multiplying it by 0."
      ],
      "text/plain": [
       "Hint: There are two options - either the project uses solid gold or does not.  With this in mind, you can structure your solution like this: `cost = solid_gold * ____ + (not solid_gold) * ____`.  You need to figure out how to fill in the blanks. Also, remember that:\n",
       "- If `solid_gold = True`, then `(not solid_gold) = False`, and if `solid_gold = False`, then `(not solid_gold) = True`.\n",
       "- Multiplying an integer by `True` is equivalent to multiplying it by 1, and multiplying an integer by `False` is equivalent to multiplying it by 0."
      ]
     },
     "metadata": {},
     "output_type": "display_data"
    },
    {
     "data": {
      "application/javascript": [
       "parent.postMessage({\"jupyterEvent\": \"custom.exercise_interaction\", \"data\": {\"interactionType\": 3, \"questionType\": 2, \"questionId\": \"5_CustomEngravings\", \"learnToolsVersion\": \"0.3.4\", \"valueTowardsCompletion\": 0.0, \"failureMessage\": \"\", \"exceptionClass\": \"\", \"trace\": \"\", \"outcomeType\": 4}}, \"*\")"
      ],
      "text/plain": [
       "<IPython.core.display.Javascript object>"
      ]
     },
     "metadata": {},
     "output_type": "display_data"
    },
    {
     "data": {
      "text/markdown": [
       "<span style=\"color:#33cc99\">Solution:</span> \n",
       "```python\n",
       "def cost_of_project(engraving, solid_gold):\n",
       "    cost = solid_gold * (100 + 10 * len(engraving)) + (not solid_gold) * (50 + 7 * len(engraving))\n",
       "    return cost\n",
       "\n",
       "```"
      ],
      "text/plain": [
       "Solution: \n",
       "```python\n",
       "def cost_of_project(engraving, solid_gold):\n",
       "    cost = solid_gold * (100 + 10 * len(engraving)) + (not solid_gold) * (50 + 7 * len(engraving))\n",
       "    return cost\n",
       "\n",
       "```"
      ]
     },
     "metadata": {},
     "output_type": "display_data"
    }
   ],
   "source": [
    "# Uncomment to see a hint\n",
    "q5.hint()\n",
    "\n",
    "# Uncomment to view the solution\n",
    "q5.solution()"
   ]
  },
  {
   "cell_type": "markdown",
   "id": "12d0b447",
   "metadata": {
    "papermill": {
     "duration": 0.011802,
     "end_time": "2023-08-04T06:45:35.539894",
     "exception": false,
     "start_time": "2023-08-04T06:45:35.528092",
     "status": "completed"
    },
    "tags": []
   },
   "source": [
    "Run the next code cell to calculate the cost of engraving `Charlie+Denver` on a solid gold ring."
   ]
  },
  {
   "cell_type": "code",
   "execution_count": 13,
   "id": "25ecb696",
   "metadata": {
    "execution": {
     "iopub.execute_input": "2023-08-04T06:45:35.567747Z",
     "iopub.status.busy": "2023-08-04T06:45:35.567264Z",
     "iopub.status.idle": "2023-08-04T06:45:35.573364Z",
     "shell.execute_reply": "2023-08-04T06:45:35.572065Z"
    },
    "papermill": {
     "duration": 0.02379,
     "end_time": "2023-08-04T06:45:35.576094",
     "exception": false,
     "start_time": "2023-08-04T06:45:35.552304",
     "status": "completed"
    },
    "tags": []
   },
   "outputs": [
    {
     "name": "stdout",
     "output_type": "stream",
     "text": [
      "240\n"
     ]
    }
   ],
   "source": [
    "project_one = cost_of_project(\"Charlie+Denver\", True)\n",
    "print(project_one)"
   ]
  },
  {
   "cell_type": "markdown",
   "id": "bcdf1a6d",
   "metadata": {
    "papermill": {
     "duration": 0.012519,
     "end_time": "2023-08-04T06:45:35.601102",
     "exception": false,
     "start_time": "2023-08-04T06:45:35.588583",
     "status": "completed"
    },
    "tags": []
   },
   "source": [
    "Use the next code cell to calculate the cost of engraving `08/10/2000` on a gold plated ring."
   ]
  },
  {
   "cell_type": "code",
   "execution_count": 14,
   "id": "9eb3cb3b",
   "metadata": {
    "execution": {
     "iopub.execute_input": "2023-08-04T06:45:35.628566Z",
     "iopub.status.busy": "2023-08-04T06:45:35.628037Z",
     "iopub.status.idle": "2023-08-04T06:45:35.634276Z",
     "shell.execute_reply": "2023-08-04T06:45:35.633050Z"
    },
    "papermill": {
     "duration": 0.023807,
     "end_time": "2023-08-04T06:45:35.637568",
     "exception": false,
     "start_time": "2023-08-04T06:45:35.613761",
     "status": "completed"
    },
    "tags": []
   },
   "outputs": [
    {
     "name": "stdout",
     "output_type": "stream",
     "text": [
      "120\n"
     ]
    }
   ],
   "source": [
    "project_two = cost_of_project(\"08/10/2000\", False)\n",
    "print(project_two)"
   ]
  },
  {
   "cell_type": "markdown",
   "id": "696ae07c",
   "metadata": {
    "papermill": {
     "duration": 0.012134,
     "end_time": "2023-08-04T06:45:35.662284",
     "exception": false,
     "start_time": "2023-08-04T06:45:35.650150",
     "status": "completed"
    },
    "tags": []
   },
   "source": [
    "# Keep going\n",
    "\n",
    "Continue to the next lesson to **[learn about conditions and conditional statements](https://www.kaggle.com/alexisbcook/conditions-and-conditional-statements)**."
   ]
  },
  {
   "cell_type": "markdown",
   "id": "ef8d5c38",
   "metadata": {
    "papermill": {
     "duration": 0.012424,
     "end_time": "2023-08-04T06:45:35.687135",
     "exception": false,
     "start_time": "2023-08-04T06:45:35.674711",
     "status": "completed"
    },
    "tags": []
   },
   "source": [
    "---\n",
    "\n",
    "\n",
    "\n",
    "\n",
    "*Have questions or comments? Visit the [course discussion forum](https://www.kaggle.com/learn/intro-to-programming/discussion) to chat with other learners.*"
   ]
  }
 ],
 "metadata": {
  "kernelspec": {
   "display_name": "Python 3",
   "language": "python",
   "name": "python3"
  },
  "language_info": {
   "codemirror_mode": {
    "name": "ipython",
    "version": 3
   },
   "file_extension": ".py",
   "mimetype": "text/x-python",
   "name": "python",
   "nbconvert_exporter": "python",
   "pygments_lexer": "ipython3",
   "version": "3.10.12"
  },
  "papermill": {
   "default_parameters": {},
   "duration": 13.819103,
   "end_time": "2023-08-04T06:45:36.624222",
   "environment_variables": {},
   "exception": null,
   "input_path": "__notebook__.ipynb",
   "output_path": "__notebook__.ipynb",
   "parameters": {},
   "start_time": "2023-08-04T06:45:22.805119",
   "version": "2.4.0"
  }
 },
 "nbformat": 4,
 "nbformat_minor": 5
}
